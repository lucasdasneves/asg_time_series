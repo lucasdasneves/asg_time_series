{
 "cells": [
  {
   "cell_type": "code",
   "execution_count": 180,
   "metadata": {},
   "outputs": [],
   "source": [
    "import pandas as pd"
   ]
  },
  {
   "cell_type": "code",
   "execution_count": 181,
   "metadata": {},
   "outputs": [],
   "source": [
    "# arima: https://machinelearningmastery.com/arima-for-time-series-forecasting-with-python/\n",
    "\n",
    "#https://machinelearningmastery.com/time-series-forecasting-methods-in-python-cheat-sheet/\n",
    "\n",
    "#stochastic model\n",
    "\n",
    "#stationary model\n",
    "\n",
    "#The stochastic model for which the exponentially weighted moving average\n",
    "#forecast yields minimum mean square error [212] is a member of a class of nonstationary processes called autoregressive integrated moving average (ARIMA)\n",
    "#processes, which are discussed in Chapter 4.\n",
    "\n",
    "#. This wider class of processes provides\n",
    "#a range of models, stationary and nonstationary, that adequately represent many of\n",
    "#the time series met in practice.\n",
    "\n",
    "#As shown\n",
    "#in Chapter 5, once an appropriate model has been determined for the series, the\n",
    "#optimal forecasting procedure follows immediately. These forecasting procedures\n",
    "#include the exponentially weighted moving average forecast as a special case."
   ]
  },
  {
   "cell_type": "code",
   "execution_count": 182,
   "metadata": {},
   "outputs": [],
   "source": [
    "df = pd.read_csv(filepath_or_buffer='/home/lneves/Documents/TCC/final_df.csv')"
   ]
  },
  {
   "cell_type": "code",
   "execution_count": 183,
   "metadata": {},
   "outputs": [],
   "source": [
    "df = df[(df['Date'] <= '2022-07-18') & (df['Date'] >= '2017-01-01')]"
   ]
  },
  {
   "cell_type": "code",
   "execution_count": 184,
   "metadata": {},
   "outputs": [
    {
     "data": {
      "text/html": [
       "<div>\n",
       "<style scoped>\n",
       "    .dataframe tbody tr th:only-of-type {\n",
       "        vertical-align: middle;\n",
       "    }\n",
       "\n",
       "    .dataframe tbody tr th {\n",
       "        vertical-align: top;\n",
       "    }\n",
       "\n",
       "    .dataframe thead th {\n",
       "        text-align: right;\n",
       "    }\n",
       "</style>\n",
       "<table border=\"1\" class=\"dataframe\">\n",
       "  <thead>\n",
       "    <tr style=\"text-align: right;\">\n",
       "      <th></th>\n",
       "      <th>Unnamed: 0</th>\n",
       "      <th>Date</th>\n",
       "      <th>Close</th>\n",
       "      <th>Price</th>\n",
       "    </tr>\n",
       "  </thead>\n",
       "  <tbody>\n",
       "    <tr>\n",
       "      <th>4432</th>\n",
       "      <td>4432</td>\n",
       "      <td>2017-01-02</td>\n",
       "      <td>67136.0</td>\n",
       "      <td>3.2857</td>\n",
       "    </tr>\n",
       "    <tr>\n",
       "      <th>4433</th>\n",
       "      <td>4433</td>\n",
       "      <td>2017-01-03</td>\n",
       "      <td>66777.0</td>\n",
       "      <td>3.2652</td>\n",
       "    </tr>\n",
       "    <tr>\n",
       "      <th>4434</th>\n",
       "      <td>4434</td>\n",
       "      <td>2017-01-04</td>\n",
       "      <td>66898.0</td>\n",
       "      <td>3.2163</td>\n",
       "    </tr>\n",
       "    <tr>\n",
       "      <th>4435</th>\n",
       "      <td>4435</td>\n",
       "      <td>2017-01-05</td>\n",
       "      <td>67940.0</td>\n",
       "      <td>3.1990</td>\n",
       "    </tr>\n",
       "    <tr>\n",
       "      <th>4436</th>\n",
       "      <td>4436</td>\n",
       "      <td>2017-01-06</td>\n",
       "      <td>67899.0</td>\n",
       "      <td>3.2241</td>\n",
       "    </tr>\n",
       "    <tr>\n",
       "      <th>...</th>\n",
       "      <td>...</td>\n",
       "      <td>...</td>\n",
       "      <td>...</td>\n",
       "      <td>...</td>\n",
       "    </tr>\n",
       "    <tr>\n",
       "      <th>5660</th>\n",
       "      <td>5660</td>\n",
       "      <td>2021-09-16</td>\n",
       "      <td>98271.0</td>\n",
       "      <td>5.2535</td>\n",
       "    </tr>\n",
       "    <tr>\n",
       "      <th>5661</th>\n",
       "      <td>5661</td>\n",
       "      <td>2021-09-17</td>\n",
       "      <td>97881.0</td>\n",
       "      <td>5.2883</td>\n",
       "    </tr>\n",
       "    <tr>\n",
       "      <th>5662</th>\n",
       "      <td>5662</td>\n",
       "      <td>2021-09-20</td>\n",
       "      <td>96121.0</td>\n",
       "      <td>5.3240</td>\n",
       "    </tr>\n",
       "    <tr>\n",
       "      <th>5663</th>\n",
       "      <td>5663</td>\n",
       "      <td>2021-09-21</td>\n",
       "      <td>96551.0</td>\n",
       "      <td>5.2699</td>\n",
       "    </tr>\n",
       "    <tr>\n",
       "      <th>5664</th>\n",
       "      <td>5664</td>\n",
       "      <td>2021-09-22</td>\n",
       "      <td>96916.0</td>\n",
       "      <td>5.2888</td>\n",
       "    </tr>\n",
       "  </tbody>\n",
       "</table>\n",
       "<p>1233 rows × 4 columns</p>\n",
       "</div>"
      ],
      "text/plain": [
       "      Unnamed: 0        Date    Close   Price\n",
       "4432        4432  2017-01-02  67136.0  3.2857\n",
       "4433        4433  2017-01-03  66777.0  3.2652\n",
       "4434        4434  2017-01-04  66898.0  3.2163\n",
       "4435        4435  2017-01-05  67940.0  3.1990\n",
       "4436        4436  2017-01-06  67899.0  3.2241\n",
       "...          ...         ...      ...     ...\n",
       "5660        5660  2021-09-16  98271.0  5.2535\n",
       "5661        5661  2021-09-17  97881.0  5.2883\n",
       "5662        5662  2021-09-20  96121.0  5.3240\n",
       "5663        5663  2021-09-21  96551.0  5.2699\n",
       "5664        5664  2021-09-22  96916.0  5.2888\n",
       "\n",
       "[1233 rows x 4 columns]"
      ]
     },
     "execution_count": 184,
     "metadata": {},
     "output_type": "execute_result"
    }
   ],
   "source": [
    "df.sort_values(by=['Date'],ascending=True)"
   ]
  },
  {
   "cell_type": "code",
   "execution_count": 185,
   "metadata": {},
   "outputs": [],
   "source": [
    "df.set_index('Date', inplace=True)"
   ]
  },
  {
   "cell_type": "code",
   "execution_count": 186,
   "metadata": {},
   "outputs": [
    {
     "data": {
      "text/plain": [
       "Unnamed: 0    1233\n",
       "Close         1233\n",
       "Price         1233\n",
       "dtype: int64"
      ]
     },
     "execution_count": 186,
     "metadata": {},
     "output_type": "execute_result"
    }
   ],
   "source": [
    "df.count()"
   ]
  },
  {
   "cell_type": "code",
   "execution_count": 187,
   "metadata": {},
   "outputs": [],
   "source": [
    "df1 = df[['Close','Price']]"
   ]
  },
  {
   "cell_type": "code",
   "execution_count": 188,
   "metadata": {},
   "outputs": [],
   "source": [
    "import numpy as np\n",
    "\n",
    "matrix = np.corrcoef(df1['Close'],df['Price'])"
   ]
  },
  {
   "cell_type": "code",
   "execution_count": 189,
   "metadata": {},
   "outputs": [
    {
     "data": {
      "text/plain": [
       "array([[1.        , 0.81416711],\n",
       "       [0.81416711, 1.        ]])"
      ]
     },
     "execution_count": 189,
     "metadata": {},
     "output_type": "execute_result"
    }
   ],
   "source": [
    "matrix"
   ]
  },
  {
   "cell_type": "code",
   "execution_count": 190,
   "metadata": {},
   "outputs": [
    {
     "data": {
      "text/html": [
       "<div>\n",
       "<style scoped>\n",
       "    .dataframe tbody tr th:only-of-type {\n",
       "        vertical-align: middle;\n",
       "    }\n",
       "\n",
       "    .dataframe tbody tr th {\n",
       "        vertical-align: top;\n",
       "    }\n",
       "\n",
       "    .dataframe thead th {\n",
       "        text-align: right;\n",
       "    }\n",
       "</style>\n",
       "<table border=\"1\" class=\"dataframe\">\n",
       "  <thead>\n",
       "    <tr style=\"text-align: right;\">\n",
       "      <th></th>\n",
       "      <th>Close</th>\n",
       "      <th>Price</th>\n",
       "    </tr>\n",
       "    <tr>\n",
       "      <th>Date</th>\n",
       "      <th></th>\n",
       "      <th></th>\n",
       "    </tr>\n",
       "  </thead>\n",
       "  <tbody>\n",
       "    <tr>\n",
       "      <th>2017-01-02</th>\n",
       "      <td>67136.0</td>\n",
       "      <td>3.2857</td>\n",
       "    </tr>\n",
       "    <tr>\n",
       "      <th>2017-01-03</th>\n",
       "      <td>66777.0</td>\n",
       "      <td>3.2652</td>\n",
       "    </tr>\n",
       "    <tr>\n",
       "      <th>2017-01-04</th>\n",
       "      <td>66898.0</td>\n",
       "      <td>3.2163</td>\n",
       "    </tr>\n",
       "    <tr>\n",
       "      <th>2017-01-05</th>\n",
       "      <td>67940.0</td>\n",
       "      <td>3.1990</td>\n",
       "    </tr>\n",
       "    <tr>\n",
       "      <th>2017-01-06</th>\n",
       "      <td>67899.0</td>\n",
       "      <td>3.2241</td>\n",
       "    </tr>\n",
       "  </tbody>\n",
       "</table>\n",
       "</div>"
      ],
      "text/plain": [
       "              Close   Price\n",
       "Date                       \n",
       "2017-01-02  67136.0  3.2857\n",
       "2017-01-03  66777.0  3.2652\n",
       "2017-01-04  66898.0  3.2163\n",
       "2017-01-05  67940.0  3.1990\n",
       "2017-01-06  67899.0  3.2241"
      ]
     },
     "execution_count": 190,
     "metadata": {},
     "output_type": "execute_result"
    }
   ],
   "source": [
    "df1.head()"
   ]
  },
  {
   "cell_type": "code",
   "execution_count": 191,
   "metadata": {},
   "outputs": [],
   "source": [
    "#univariável\n",
    "\n",
    "df2 = df1['Close']"
   ]
  },
  {
   "cell_type": "code",
   "execution_count": 192,
   "metadata": {},
   "outputs": [],
   "source": [
    "#Running the example, we can see that there is a positive correlation \n",
    "# with the first 10-to-12 lags that is perhaps significant for the first 5 lags.\n",
    "\n",
    "#A good starting point for the AR parameter of the model may be 5."
   ]
  },
  {
   "cell_type": "code",
   "execution_count": 193,
   "metadata": {},
   "outputs": [
    {
     "data": {
      "text/plain": [
       "<AxesSubplot:xlabel='Lag', ylabel='Autocorrelation'>"
      ]
     },
     "execution_count": 193,
     "metadata": {},
     "output_type": "execute_result"
    },
    {
     "data": {
      "image/png": "[encoded data removed]",
      "text/plain": [
       "<Figure size 432x288 with 1 Axes>"
      ]
     },
     "metadata": {
      "needs_background": "light"
     },
     "output_type": "display_data"
    }
   ],
   "source": [
    "from pandas.plotting import autocorrelation_plot\n",
    "\n",
    "autocorrelation_plot(df2)"
   ]
  },
  {
   "cell_type": "code",
   "execution_count": 194,
   "metadata": {},
   "outputs": [
    {
     "data": {
      "text/plain": [
       "array([ 1.        ,  0.99467683,  0.11056229, -0.04580327, -0.02986309,\n",
       "        0.00798166, -0.05169799,  0.03390092, -0.12471029, -0.02977614,\n",
       "       -0.00644703, -0.00891439, -0.05689865,  0.01662506,  0.02532678,\n",
       "       -0.00104481,  0.04093873, -0.01817878, -0.04447371, -0.0179616 ,\n",
       "        0.05387882,  0.03859546, -0.03873015, -0.0028218 ,  0.03007675,\n",
       "       -0.02196446,  0.05298118, -0.00617142, -0.05786819,  0.01689836,\n",
       "       -0.04640847])"
      ]
     },
     "execution_count": 194,
     "metadata": {},
     "output_type": "execute_result"
    }
   ],
   "source": [
    "import statsmodels\n",
    "\n",
    "statsmodels.tsa.stattools.pacf(df2)"
   ]
  },
  {
   "cell_type": "code",
   "execution_count": 195,
   "metadata": {},
   "outputs": [
    {
     "data": {
      "image/png": "[encoded data removed]",
      "text/plain": [
       "<Figure size 432x288 with 1 Axes>"
      ]
     },
     "execution_count": 195,
     "metadata": {},
     "output_type": "execute_result"
    },
    {
     "data": {
      "image/png": "[encoded data removed]",
      "text/plain": [
       "<Figure size 432x288 with 1 Axes>"
      ]
     },
     "metadata": {
      "needs_background": "light"
     },
     "output_type": "display_data"
    }
   ],
   "source": [
    "from statsmodels.graphics.tsaplots import plot_acf, plot_pacf\n",
    "\n",
    "plot_acf(df2, lags=100)"
   ]
  },
  {
   "cell_type": "code",
   "execution_count": 196,
   "metadata": {},
   "outputs": [
    {
     "name": "stderr",
     "output_type": "stream",
     "text": [
      "/home/lneves/.local/lib/python3.10/site-packages/statsmodels/graphics/tsaplots.py:348: FutureWarning: The default method 'yw' can produce PACF values outside of the [-1,1] interval. After 0.13, the default will change tounadjusted Yule-Walker ('ywm'). You can use this method now by setting method='ywm'.\n",
      "  warnings.warn(\n"
     ]
    },
    {
     "data": {
      "image/png": "[encoded data removed]",
      "text/plain": [
       "<Figure size 432x288 with 1 Axes>"
      ]
     },
     "execution_count": 196,
     "metadata": {},
     "output_type": "execute_result"
    },
    {
     "data": {
      "image/png": "[encoded data removed]",
      "text/plain": [
       "<Figure size 432x288 with 1 Axes>"
      ]
     },
     "metadata": {
      "needs_background": "light"
     },
     "output_type": "display_data"
    }
   ],
   "source": [
    "plot_pacf(df2)"
   ]
  },
  {
   "cell_type": "code",
   "execution_count": 197,
   "metadata": {},
   "outputs": [
    {
     "name": "stderr",
     "output_type": "stream",
     "text": [
      "/home/lneves/.local/lib/python3.10/site-packages/statsmodels/tsa/base/tsa_model.py:536: ValueWarning: No frequency information was provided, so inferred frequency B will be used.\n",
      "  warnings.warn('No frequency information was'\n",
      "/home/lneves/.local/lib/python3.10/site-packages/statsmodels/tsa/base/tsa_model.py:536: ValueWarning: No frequency information was provided, so inferred frequency B will be used.\n",
      "  warnings.warn('No frequency information was'\n",
      "/home/lneves/.local/lib/python3.10/site-packages/statsmodels/tsa/base/tsa_model.py:536: ValueWarning: No frequency information was provided, so inferred frequency B will be used.\n",
      "  warnings.warn('No frequency information was'\n",
      "/home/lneves/.local/lib/python3.10/site-packages/statsmodels/tsa/statespace/sarimax.py:966: UserWarning: Non-stationary starting autoregressive parameters found. Using zeros as starting parameters.\n",
      "  warn('Non-stationary starting autoregressive parameters'\n"
     ]
    },
    {
     "name": "stdout",
     "output_type": "stream",
     "text": [
      "                               SARIMAX Results                                \n",
      "==============================================================================\n",
      "Dep. Variable:                  Close   No. Observations:                 1233\n",
      "Model:                 ARIMA(2, 1, 1)   Log Likelihood              -10783.258\n",
      "Date:                Mon, 08 Aug 2022   AIC                          21574.517\n",
      "Time:                        20:18:21   BIC                          21594.982\n",
      "Sample:                    01-02-2017   HQIC                         21582.216\n",
      "                         - 09-22-2021                                         \n",
      "Covariance Type:                  opg                                         \n",
      "==============================================================================\n",
      "                 coef    std err          z      P>|z|      [0.025      0.975]\n",
      "------------------------------------------------------------------------------\n",
      "ar.L1          0.7925      0.076     10.374      0.000       0.643       0.942\n",
      "ar.L2          0.0978      0.009     10.643      0.000       0.080       0.116\n",
      "ma.L1         -0.8736      0.077    -11.304      0.000      -1.025      -0.722\n",
      "sigma2      2.338e+06   4.04e+04     57.873      0.000    2.26e+06    2.42e+06\n",
      "===================================================================================\n",
      "Ljung-Box (L1) (Q):                   3.81   Jarque-Bera (JB):              6105.12\n",
      "Prob(Q):                              0.05   Prob(JB):                         0.00\n",
      "Heteroskedasticity (H):               1.69   Skew:                            -1.16\n",
      "Prob(H) (two-sided):                  0.00   Kurtosis:                        13.66\n",
      "===================================================================================\n",
      "\n",
      "Warnings:\n",
      "[1] Covariance matrix calculated using the outer product of gradients (complex-step).\n"
     ]
    }
   ],
   "source": [
    "from statsmodels.tsa.arima.model import ARIMA\n",
    "\n",
    "#autoregression = 1000\n",
    "p = 2\n",
    "#difference order of 1\n",
    "diff = 1\n",
    "#moving average model = 0\n",
    "q = 1\n",
    "\n",
    "model = ARIMA(df2, order=(p,1,q))\n",
    "model_fit = model.fit()\n",
    "\n",
    "print(model_fit.summary())"
   ]
  },
  {
   "cell_type": "code",
   "execution_count": 198,
   "metadata": {},
   "outputs": [
    {
     "data": {
      "image/png": "[encoded data removed]",
      "text/plain": [
       "<Figure size 432x288 with 1 Axes>"
      ]
     },
     "metadata": {
      "needs_background": "light"
     },
     "output_type": "display_data"
    },
    {
     "data": {
      "image/png": "[encoded data removed]",
      "text/plain": [
       "<Figure size 432x288 with 1 Axes>"
      ]
     },
     "metadata": {
      "needs_background": "light"
     },
     "output_type": "display_data"
    },
    {
     "name": "stdout",
     "output_type": "stream",
     "text": [
      "                  0\n",
      "count   1233.000000\n",
      "mean      69.726043\n",
      "std     2449.025981\n",
      "min   -12818.829531\n",
      "25%     -763.352992\n",
      "50%       60.332137\n",
      "75%      900.282035\n",
      "max    67136.000000\n"
     ]
    }
   ],
   "source": [
    "from matplotlib import pyplot\n",
    "from pandas import DataFrame\n",
    "\n",
    "# line plot of residuals\n",
    "residuals = DataFrame(model_fit.resid)\n",
    "residuals.plot()\n",
    "pyplot.show()\n",
    "# density plot of residuals\n",
    "residuals.plot(kind='kde')\n",
    "pyplot.show()\n",
    "# summary stats of residuals\n",
    "print(residuals.describe())"
   ]
  },
  {
   "cell_type": "code",
   "execution_count": 199,
   "metadata": {},
   "outputs": [
    {
     "name": "stdout",
     "output_type": "stream",
     "text": [
      "predicted=97445.761765, expected=100774.000000\n",
      "predicted=100749.491532, expected=100799.000000\n",
      "predicted=100907.311067, expected=103913.000000\n",
      "predicted=103838.021497, expected=105351.000000\n",
      "predicted=105431.497597, expected=104532.000000\n",
      "predicted=104865.829327, expected=102175.000000\n",
      "predicted=102361.136939, expected=104512.000000\n",
      "predicted=104294.381000, expected=106430.000000\n",
      "predicted=106326.495096, expected=107229.000000\n",
      "predicted=107313.331952, expected=106483.000000\n",
      "predicted=106568.666931, expected=106517.000000\n",
      "predicted=106585.324717, expected=107379.000000\n",
      "predicted=107345.861374, expected=109786.000000\n",
      "predicted=109667.801880, expected=110133.000000\n",
      "predicted=110207.120273, expected=110227.000000\n",
      "predicted=110325.635433, expected=110575.000000\n",
      "predicted=110593.364008, expected=108888.000000\n",
      "predicted=109103.951725, expected=111335.000000\n",
      "predicted=111113.980342, expected=111814.000000\n",
      "predicted=111808.997033, expected=112919.000000\n",
      "predicted=112960.536976, expected=113682.000000\n",
      "predicted=113628.612805, expected=113625.000000\n",
      "predicted=113780.211090, expected=113571.000000\n",
      "predicted=113616.302926, expected=112722.000000\n",
      "predicted=112815.287556, expected=114992.000000\n",
      "predicted=114814.784706, expected=115323.000000\n",
      "predicted=115351.031665, expected=114975.000000\n",
      "predicted=115098.073590, expected=116146.000000\n",
      "predicted=116028.529815, expected=117947.000000\n",
      "predicted=117920.166426, expected=118157.000000\n",
      "predicted=118266.120280, expected=117679.000000\n",
      "predicted=117780.042576, expected=116016.000000\n",
      "predicted=116166.011604, expected=116348.000000\n",
      "predicted=116303.098700, expected=117857.000000\n",
      "predicted=117703.570525, expected=119051.000000\n",
      "predicted=119016.509962, expected=119475.000000\n",
      "predicted=119487.357465, expected=119306.000000\n",
      "predicted=119388.289910, expected=118558.000000\n",
      "predicted=118671.798773, expected=119223.000000\n",
      "predicted=119181.239546, expected=119851.000000\n",
      "predicted=119817.258066, expected=121956.000000\n",
      "predicted=121845.820815, expected=125077.000000\n",
      "predicted=124932.241546, expected=122807.000000\n",
      "predicted=123183.612662, expected=123998.000000\n",
      "predicted=123959.802845, expected=122040.000000\n",
      "predicted=122212.262599, expected=123481.000000\n",
      "predicted=123455.454678, expected=120502.000000\n",
      "predicted=120636.355170, expected=121242.000000\n",
      "predicted=121158.438940, expected=120673.000000\n",
      "predicted=120578.250830, expected=119708.000000\n",
      "predicted=119832.383000, expected=118443.000000\n",
      "predicted=118381.074035, expected=117172.000000\n",
      "predicted=117206.450706, expected=116464.000000\n",
      "predicted=116401.223569, expected=115882.000000\n",
      "predicted=115818.560243, expected=119314.000000\n",
      "predicted=118972.070112, expected=116007.000000\n",
      "predicted=116333.806250, expected=117365.000000\n",
      "predicted=117220.661067, expected=118234.000000\n",
      "predicted=118086.376109, expected=119725.000000\n",
      "predicted=119802.489466, expected=119261.000000\n",
      "predicted=119280.409325, expected=119925.000000\n",
      "predicted=119952.046190, expected=119516.000000\n",
      "predicted=119588.923020, expected=119429.000000\n",
      "predicted=119489.118819, expected=118430.000000\n",
      "predicted=118475.459687, expected=119235.000000\n",
      "predicted=119149.659708, expected=119116.000000\n",
      "predicted=119110.614692, expected=120391.000000\n",
      "predicted=120310.911709, expected=119140.000000\n",
      "predicted=119254.823360, expected=118748.000000\n",
      "predicted=118795.796080, expected=112668.000000\n",
      "predicted=113071.749486, expected=115227.000000\n",
      "predicted=114795.312631, expected=115668.000000\n",
      "predicted=115505.608040, expected=112256.000000\n",
      "predicted=112603.721797, expected=110035.000000\n",
      "predicted=109909.907190, expected=110335.000000\n",
      "predicted=110193.359064, expected=111540.000000\n",
      "predicted=111373.805162, expected=111184.000000\n",
      "predicted=111138.587251, expected=112690.000000\n",
      "predicted=112531.187494, expected=115202.000000\n",
      "predicted=115069.183246, expected=110612.000000\n",
      "predicted=111154.625371, expected=111331.000000\n",
      "predicted=111191.821343, expected=112776.000000\n",
      "predicted=112582.157421, expected=114984.000000\n",
      "predicted=114929.797109, expected=114160.000000\n",
      "predicted=114213.908062, expected=114851.000000\n",
      "predicted=114874.464960, expected=114019.000000\n",
      "predicted=114141.734901, expected=116549.000000\n",
      "predicted=116401.206308, expected=114835.000000\n",
      "predicted=115016.641194, expected=116222.000000\n",
      "predicted=116144.155294, expected=114979.000000\n",
      "predicted=115073.288889, expected=113262.000000\n",
      "predicted=113463.883361, expected=112064.000000\n",
      "predicted=112019.447985, expected=113750.000000\n",
      "predicted=113544.963332, expected=114781.000000\n",
      "predicted=114668.572098, expected=115419.000000\n",
      "predicted=115397.269200, expected=116850.000000\n",
      "predicted=116770.176473, expected=116634.000000\n",
      "predicted=116778.645546, expected=115253.000000\n",
      "predicted=115434.087794, expected=117518.000000\n",
      "predicted=117308.556344, expected=117499.000000\n",
      "predicted=117574.903314, expected=117624.000000\n",
      "predicted=117668.920581, expected=118313.000000\n",
      "predicted=118239.614533, expected=117670.000000\n",
      "predicted=117814.528231, expected=118812.000000\n",
      "predicted=118719.436263, expected=119297.000000\n",
      "predicted=119286.185850, expected=120295.000000\n",
      "predicted=120283.669808, expected=120701.000000\n",
      "predicted=120709.728449, expected=121114.000000\n",
      "predicted=121164.511302, expected=120934.000000\n",
      "predicted=120998.202694, expected=120062.000000\n",
      "predicted=120171.021353, expected=119371.000000\n",
      "predicted=119404.218171, expected=120530.000000\n",
      "predicted=120394.267739, expected=120595.000000\n",
      "predicted=120597.014929, expected=119388.000000\n",
      "predicted=119494.808173, expected=121053.000000\n",
      "predicted=120866.403473, expected=120066.000000\n",
      "predicted=120199.510540, expected=118894.000000\n",
      "predicted=119002.654988, expected=119209.000000\n",
      "predicted=119087.615088, expected=117712.000000\n",
      "predicted=117846.464504, expected=119564.000000\n",
      "predicted=119333.191269, expected=119921.000000\n",
      "predicted=119876.021049, expected=122038.000000\n",
      "predicted=121938.222139, expected=121909.000000\n",
      "predicted=121976.785957, expected=122964.000000\n",
      "predicted=122996.934858, expected=119710.000000\n",
      "predicted=120033.249181, expected=120706.000000\n",
      "predicted=120594.020284, expected=121881.000000\n",
      "predicted=121721.293322, expected=122938.000000\n",
      "predicted=122931.625479, expected=122980.000000\n",
      "predicted=122967.024216, expected=122636.000000\n",
      "predicted=122733.299022, expected=122701.000000\n",
      "predicted=122724.309730, expected=122592.000000\n",
      "predicted=122622.519871, expected=124032.000000\n",
      "predicted=123910.950595, expected=122988.000000\n",
      "predicted=123112.934783, expected=123989.000000\n",
      "predicted=123913.592194, expected=124367.000000\n",
      "predicted=124346.643373, expected=125561.000000\n",
      "predicted=125540.067765, expected=126216.000000\n",
      "predicted=126194.395199, expected=128267.000000\n",
      "predicted=128190.783332, expected=129601.000000\n",
      "predicted=129608.898861, expected=130126.000000\n",
      "predicted=130236.066533, expected=130776.000000\n",
      "predicted=130819.287905, expected=129787.000000\n",
      "predicted=129975.290300, expected=129907.000000\n",
      "predicted=129921.584560, expected=130076.000000\n",
      "predicted=130055.470492, expected=129441.000000\n",
      "predicted=129514.003945, expected=130208.000000\n",
      "predicted=130099.948874, expected=130091.000000\n",
      "predicted=130114.081056, expected=129259.000000\n",
      "predicted=129346.731783, expected=128057.000000\n",
      "predicted=128107.126444, expected=128405.000000\n",
      "predicted=128326.557854, expected=129265.000000\n",
      "predicted=129161.721558, expected=128767.000000\n",
      "predicted=128818.022511, expected=128428.000000\n",
      "predicted=128432.064576, expected=129514.000000\n",
      "predicted=129413.620658, expected=127256.000000\n",
      "predicted=127491.104877, expected=127429.000000\n",
      "predicted=127348.839476, expected=127327.000000\n",
      "predicted=127268.716233, expected=126802.000000\n",
      "predicted=126861.410891, expected=125666.000000\n",
      "predicted=125674.677471, expected=127622.000000\n",
      "predicted=127406.181133, expected=126920.000000\n",
      "predicted=127007.517282, expected=125095.000000\n",
      "predicted=125260.027652, expected=127019.000000\n",
      "predicted=126754.489128, expected=125428.000000\n",
      "predicted=125618.219834, expected=127594.000000\n",
      "predicted=127383.586403, expected=128168.000000\n",
      "predicted=128110.470887, expected=128407.000000\n",
      "predicted=128521.514734, expected=127468.000000\n",
      "predicted=127545.692166, expected=125960.000000\n",
      "predicted=126121.599702, expected=124395.000000\n",
      "predicted=124454.687572, expected=125401.000000\n",
      "predicted=125212.719348, expected=125929.000000\n",
      "predicted=125839.753022, expected=126147.000000\n",
      "predicted=126131.026737, expected=125053.000000\n",
      "predicted=125131.459731, expected=126004.000000\n",
      "predicted=125921.652672, expected=124612.000000\n",
      "predicted=124744.653482, expected=126286.000000\n",
      "predicted=126122.541624, expected=125675.000000\n",
      "predicted=125722.336866, expected=121801.000000\n",
      "predicted=122174.260392, expected=122516.000000\n",
      "predicted=122267.572377, expected=123577.000000\n",
      "predicted=123433.220713, expected=121801.000000\n",
      "predicted=121970.652595, expected=121633.000000\n",
      "predicted=121521.055537, expected=122810.000000\n",
      "predicted=122671.309669, expected=123019.000000\n",
      "predicted=123051.640275, expected=122202.000000\n",
      "predicted=122270.269205, expected=122056.000000\n",
      "predicted=122051.455534, expected=120701.000000\n",
      "predicted=120815.144985, expected=121194.000000\n",
      "predicted=121100.953839, expected=119180.000000\n",
      "predicted=119300.452816, expected=117904.000000\n",
      "predicted=117944.279699, expected=116643.000000\n",
      "predicted=116604.130699, expected=117165.000000\n",
      "predicted=117032.092548, expected=118053.000000\n",
      "predicted=117893.639348, expected=117472.000000\n",
      "predicted=117526.146981, expected=120211.000000\n",
      "predicted=119960.979988, expected=120818.000000\n",
      "predicted=120863.685940, expected=118724.000000\n",
      "predicted=119031.264458, expected=120678.000000\n",
      "predicted=120463.571037, expected=119740.000000\n",
      "predicted=119887.889247, expected=118781.000000\n",
      "predicted=118901.632274, expected=119396.000000\n",
      "predicted=119236.978639, expected=116677.000000\n",
      "predicted=116941.498854, expected=116933.000000\n",
      "predicted=116809.866224, expected=117869.000000\n",
      "predicted=117679.791710, expected=113413.000000\n",
      "predicted=113842.260771, expected=115361.000000\n",
      "predicted=115003.432335, expected=114286.000000\n",
      "predicted=114289.376975, expected=116404.000000\n",
      "predicted=116258.227379, expected=116181.000000\n",
      "predicted=116126.355159, expected=115063.000000\n",
      "predicted=115279.708120, expected=113794.000000\n",
      "predicted=113836.667362, expected=111439.000000\n",
      "predicted=111615.150014, expected=108844.000000\n",
      "predicted=108923.696874, expected=110250.000000\n",
      "predicted=109919.254233, expected=112282.000000\n",
      "predicted=112033.528805, expected=114064.000000\n",
      "predicted=113974.889750, expected=113283.000000\n",
      "predicted=113413.532622, expected=113583.000000\n",
      "predicted=113624.756325, expected=110124.000000\n",
      "predicted=110447.600493, expected=111107.000000\n",
      "predicted=110953.480341, expected=110979.000000\n",
      "predicted=110896.957921, expected=112900.000000\n",
      "predicted=112774.168917, expected=110393.000000\n",
      "predicted=110590.039559, expected=110458.000000\n",
      "predicted=110444.169403, expected=110560.000000\n",
      "predicted=110476.083534, expected=110585.000000\n",
      "predicted=110634.005354, expected=112833.000000\n",
      "predicted=112581.862659, expected=112180.000000\n",
      "predicted=112318.473757, expected=113456.000000\n",
      "predicted=113392.046540, expected=113185.000000\n",
      "predicted=113234.208598, expected=114648.000000\n",
      "predicted=114606.533852, expected=114428.000000\n",
      "predicted=114475.870948, expected=110673.000000\n",
      "predicted=111064.066082, expected=110786.000000\n",
      "predicted=110628.747187, expected=107735.000000\n",
      "predicted=107926.337987, expected=106296.000000\n",
      "predicted=106306.569582, expected=108715.000000\n",
      "predicted=108271.029449, expected=106420.000000\n",
      "predicted=106674.466230, expected=106363.000000\n",
      "predicted=106286.012275, expected=105705.000000\n",
      "predicted=105642.503538, expected=103501.000000\n",
      "predicted=103736.283445, expected=105551.000000\n",
      "predicted=105208.398638, expected=105617.000000\n",
      "predicted=105617.344575, expected=103412.000000\n",
      "predicted=103663.785561, expected=104824.000000\n",
      "predicted=104555.498594, expected=104781.000000\n",
      "predicted=104816.235907, expected=105535.000000\n",
      "predicted=105525.930751, expected=105968.000000\n",
      "predicted=105890.009748, expected=107725.000000\n",
      "predicted=107650.921127, expected=106312.000000\n",
      "predicted=106509.415530, expected=104508.000000\n",
      "predicted=104689.930346, expected=102945.000000\n",
      "predicted=102971.213231, expected=102524.000000\n",
      "predicted=102496.886728, expected=103035.000000\n",
      "predicted=102898.227550, expected=102122.000000\n",
      "predicted=102165.740917, expected=103663.000000\n",
      "predicted=103475.727860, expected=104514.000000\n",
      "predicted=104453.727393, expected=105811.000000\n",
      "predicted=105798.640243, expected=102224.000000\n",
      "predicted=102577.477367, expected=102814.000000\n",
      "predicted=102708.949108, expected=101915.000000\n",
      "predicted=101917.200334, expected=100775.000000\n",
      "predicted=100910.307185, expected=104466.000000\n",
      "predicted=103980.972420, expected=105070.000000\n",
      "predicted=105134.516356, expected=106859.000000\n",
      "predicted=106830.538878, expected=107558.000000\n",
      "predicted=107525.801228, expected=108096.000000\n",
      "predicted=108216.491790, expected=106291.000000\n",
      "predicted=106486.538073, expected=107758.000000\n",
      "predicted=107615.734569, expected=107383.000000\n",
      "predicted=107424.563983, expected=106760.000000\n",
      "predicted=106873.293139, expected=107370.000000\n",
      "predicted=107229.512599, expected=108212.000000\n",
      "predicted=108177.173606, expected=107201.000000\n",
      "predicted=107336.194123, expected=105020.000000\n",
      "predicted=105179.866177, expected=105500.000000\n",
      "predicted=105353.948195, expected=105244.000000\n",
      "predicted=105240.400462, expected=104891.000000\n",
      "predicted=104921.653338, expected=105531.000000\n",
      "predicted=105403.106521, expected=104864.000000\n",
      "predicted=104946.476335, expected=104107.000000\n",
      "predicted=104165.973456, expected=104822.000000\n",
      "predicted=104698.219568, expected=103922.000000\n",
      "predicted=104021.105866, expected=103514.000000\n",
      "predicted=103531.076571, expected=101006.000000\n",
      "predicted=101156.918214, expected=101561.000000\n",
      "predicted=101430.102015, expected=102719.000000\n",
      "predicted=102541.654845, expected=101945.000000\n",
      "predicted=102081.191203, expected=103779.000000\n",
      "predicted=103568.016090, expected=105686.000000\n",
      "predicted=105564.943039, expected=105530.000000\n",
      "predicted=105703.960868, expected=106928.000000\n",
      "predicted=106833.165000, expected=106692.000000\n",
      "predicted=106782.188243, expected=106522.000000\n",
      "predicted=106616.490475, expected=108013.000000\n",
      "predicted=107854.689355, expected=109102.000000\n",
      "predicted=109089.819359, expected=108942.000000\n",
      "predicted=109042.129210, expected=107752.000000\n",
      "predicted=107869.154333, expected=109845.000000\n",
      "predicted=109639.608280, expected=111573.000000\n",
      "predicted=111485.195691, expected=112315.000000\n",
      "predicted=112388.380040, expected=111478.000000\n",
      "predicted=111592.090574, expected=112388.000000\n",
      "predicted=112341.160612, expected=113147.000000\n",
      "predicted=113121.963685, expected=112161.000000\n",
      "predicted=112325.656273, expected=111696.000000\n",
      "predicted=111701.848819, expected=112245.000000\n",
      "predicted=112164.237938, expected=111996.000000\n",
      "predicted=112044.354903, expected=112234.000000\n",
      "predicted=112203.523216, expected=112461.000000\n",
      "predicted=112427.655249, expected=113359.000000\n",
      "predicted=113311.567463, expected=113572.000000\n",
      "predicted=113586.191731, expected=113807.000000\n",
      "predicted=113828.633148, expected=114660.000000\n",
      "predicted=114601.980653, expected=115181.000000\n",
      "predicted=115193.753529, expected=113528.000000\n",
      "predicted=113721.267290, expected=112768.000000\n",
      "predicted=112792.570866, expected=111725.000000\n",
      "predicted=111747.638278, expected=112892.000000\n",
      "predicted=112751.333973, expected=112008.000000\n",
      "predicted=112058.290184, expected=111592.000000\n",
      "predicted=111624.170895, expected=113142.000000\n",
      "predicted=112933.425064, expected=115174.000000\n",
      "predicted=115071.211542, expected=115166.000000\n",
      "predicted=115272.642655, expected=114474.000000\n",
      "predicted=114582.191274, expected=111593.000000\n",
      "predicted=111834.755491, expected=111203.000000\n",
      "predicted=111158.796261, expected=113900.000000\n",
      "predicted=113573.534313, expected=113663.000000\n",
      "predicted=113763.840414, expected=111713.000000\n",
      "predicted=111888.105000, expected=109928.000000\n",
      "predicted=109985.016150, expected=108959.000000\n",
      "predicted=108993.621301, expected=111112.000000\n",
      "predicted=110854.285132, expected=113076.000000\n",
      "predicted=112913.840444, expected=115311.000000\n",
      "predicted=115212.682276, expected=116155.000000\n",
      "predicted=116171.366389, expected=117272.000000\n",
      "predicted=117309.266346, expected=117457.000000\n",
      "predicted=117533.575697, expected=119053.000000\n",
      "predicted=119011.810399, expected=119081.000000\n",
      "predicted=119151.118285, expected=118738.000000\n",
      "predicted=118839.463039, expected=120014.000000\n",
      "predicted=119892.732573, expected=120260.000000\n",
      "predicted=120313.284857, expected=119999.000000\n",
      "predicted=120068.733993, expected=121570.000000\n",
      "predicted=121422.698268, expected=121280.000000\n",
      "predicted=121379.402504, expected=118885.000000\n",
      "predicted=119125.179765, expected=118228.000000\n",
      "predicted=118176.160055, expected=118862.000000\n",
      "predicted=118760.072950, expected=118322.000000\n",
      "predicted=118376.835346, expected=116953.000000\n",
      "predicted=117010.290389, expected=116147.000000\n",
      "predicted=116131.381310, expected=116782.000000\n",
      "predicted=116683.182925, expected=116182.000000\n",
      "predicted=116221.998681, expected=115687.000000\n",
      "predicted=115696.844986, expected=115057.000000\n",
      "predicted=115050.205874, expected=114344.000000\n",
      "predicted=114386.224064, expected=111078.000000\n",
      "predicted=111286.231894, expected=110685.000000\n",
      "predicted=110577.470696, expected=108213.000000\n",
      "predicted=108283.701841, expected=109349.000000\n",
      "predicted=109159.734385, expected=109919.000000\n",
      "predicted=109758.562857, expected=107876.000000\n",
      "predicted=108097.541877, expected=106639.000000\n",
      "predicted=106615.715075, expected=106528.000000\n",
      "predicted=106460.463627, expected=108344.000000\n",
      "predicted=108182.870095, expected=105304.000000\n",
      "predicted=105556.034994, expected=105135.000000\n",
      "predicted=105071.177975, expected=103250.000000\n",
      "predicted=103296.373283, expected=103110.000000\n",
      "predicted=103111.672613, expected=104397.000000\n",
      "predicted=104147.888324, expected=105688.000000\n",
      "predicted=105626.537608, expected=106924.000000\n",
      "predicted=106856.687401, expected=108233.000000\n",
      "predicted=108199.856309, expected=108789.000000\n",
      "predicted=108854.872396, expected=106247.000000\n",
      "predicted=106532.572211, expected=107005.000000\n",
      "predicted=106899.668134, expected=108488.000000\n",
      "predicted=108351.806862, expected=110346.000000\n",
      "predicted=110296.444298, expected=110581.000000\n",
      "predicted=110594.551281, expected=110580.000000\n",
      "predicted=110653.834718, expected=111890.000000\n",
      "predicted=111825.283443, expected=111942.000000\n",
      "predicted=112030.992142, expected=111032.000000\n",
      "predicted=111149.801915, expected=111351.000000\n",
      "predicted=111291.338713, expected=111360.000000\n",
      "predicted=111378.388307, expected=112393.000000\n",
      "predicted=112326.033664, expected=111102.000000\n",
      "predicted=111213.091475, expected=110186.000000\n",
      "predicted=110254.228701, expected=110070.000000\n",
      "predicted=110007.964744, expected=108368.000000\n",
      "predicted=108505.942484, expected=107094.000000\n",
      "predicted=107102.798660, expected=105481.000000\n",
      "predicted=105489.034120, expected=102598.000000\n",
      "predicted=102728.484939, expected=102063.000000\n",
      "predicted=101910.099767, expected=102807.000000\n",
      "predicted=102614.758698, expected=99825.000000\n",
      "predicted=100026.674699, expected=99853.000000\n",
      "predicted=99689.837714, expected=99685.000000\n",
      "predicted=99586.491504, expected=99522.000000\n",
      "predicted=99557.806404, expected=98080.000000\n",
      "predicted=98096.353548, expected=98672.000000\n",
      "predicted=98571.280600, expected=100764.000000\n",
      "predicted=100571.687521, expected=100591.000000\n",
      "predicted=100693.193044, expected=99622.000000\n",
      "predicted=99716.773843, expected=98542.000000\n",
      "predicted=98600.824013, expected=98954.000000\n",
      "predicted=98914.942929, expected=98609.000000\n",
      "predicted=98612.057862, expected=98295.000000\n",
      "predicted=98294.422426, expected=98719.000000\n",
      "predicted=98633.528486, expected=100730.000000\n",
      "predicted=100591.003971, expected=100289.000000\n",
      "predicted=100395.168506, expected=98212.000000\n",
      "predicted=98411.514343, expected=98271.000000\n",
      "predicted=98194.198995, expected=97881.000000\n",
      "predicted=97905.260475, expected=96121.000000\n",
      "predicted=96235.879816, expected=96551.000000\n",
      "predicted=96390.297550, expected=96916.000000\n",
      "Test RMSE: 1436.399\n"
     ]
    },
    {
     "data": {
      "image/png": "[encoded data removed]",
      "text/plain": [
       "<Figure size 432x288 with 1 Axes>"
      ]
     },
     "metadata": {
      "needs_background": "light"
     },
     "output_type": "display_data"
    }
   ],
   "source": [
    "from sklearn.metrics import mean_squared_error\n",
    "from math import sqrt\n",
    "\n",
    "series = df1['Close']\n",
    "# split into train and test sets\n",
    "X = series.values\n",
    "size = int(len(X) * 0.66)\n",
    "train, test = X[0:size], X[size:len(X)]\n",
    "history = [x for x in train]\n",
    "predictions = list()\n",
    "\n",
    "# walk-forward validation\n",
    "for t in range(len(test)):\n",
    "\tmodel = ARIMA(history, order=(5,1,0))\n",
    "\tmodel_fit = model.fit()\n",
    "\toutput = model_fit.forecast()\n",
    "\tyhat = output[0]\n",
    "\tpredictions.append(yhat)\n",
    "\tobs = test[t]\n",
    "\thistory.append(obs)\n",
    "\tprint('predicted=%f, expected=%f' % (yhat, obs))\n",
    "\n",
    "# evaluate forecasts\n",
    "rmse = sqrt(mean_squared_error(test, predictions))\n",
    "print('Test RMSE: %.3f' % rmse)\n",
    "\n",
    "# plot forecasts against actual outcomes\n",
    "pyplot.plot(test)\n",
    "pyplot.plot(predictions, color='red')\n",
    "pyplot.show()"
   ]
  },
  {
   "cell_type": "code",
   "execution_count": null,
   "metadata": {},
   "outputs": [],
   "source": []
  },
  {
   "cell_type": "code",
   "execution_count": null,
   "metadata": {},
   "outputs": [],
   "source": []
  }
 ],
 "metadata": {
  "kernelspec": {
   "display_name": "Python 3.10.4 64-bit",
   "language": "python",
   "name": "python3"
  },
  "language_info": {
   "codemirror_mode": {
    "name": "ipython",
    "version": 3
   },
   "file_extension": ".py",
   "mimetype": "text/x-python",
   "name": "python",
   "nbconvert_exporter": "python",
   "pygments_lexer": "ipython3",
   "version": "3.10.4"
  },
  "orig_nbformat": 4,
  "vscode": {
   "interpreter": {
    "hash": "916dbcbb3f70747c44a77c7bcd40155683ae19c65e1c03b4aa3499c5328201f1"
   }
  }
 },
 "nbformat": 4,
 "nbformat_minor": 2
}
